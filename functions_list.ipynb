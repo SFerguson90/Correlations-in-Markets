{
 "cells": [
  {
   "cell_type": "code",
   "execution_count": 35,
   "metadata": {},
   "outputs": [],
   "source": [
    "#pyvizenv environment needed\n",
    "#commented out libraries & APIs we aren't currently using - kp\n",
    "\n",
    "\n",
    "# Initial imports/modules/libraries\n",
    "import yfinance as yf\n",
    "import requests\n",
    "import os\n",
    "import pandas as pd\n",
    "import hvplot.pandas\n",
    "import panel as pn\n",
    "import plotly.express as px\n",
    "import holoviews as hv\n",
    "import datetime\n",
    "from dotenv import load_dotenv\n",
    "import json\n",
    "\n",
    "# Loading user .env file\n",
    "load_dotenv()\n",
    "rapid_api_key = os.getenv(\"RAPID_API_KEY\")"
   ]
  },
  {
   "cell_type": "code",
   "execution_count": 36,
   "metadata": {},
   "outputs": [],
   "source": [
    "import hvplot.pandas\n",
    "#import matplotlib.pyplot as plt"
   ]
  },
  {
   "cell_type": "code",
   "execution_count": 39,
   "metadata": {},
   "outputs": [],
   "source": [
    "#tickers_test_list = [\"BTC-USD\", \"DJIA\", \"GLD\", \"DX-Y.NYB\", \"QQQ\", \"SPY\", \"WTI\"]\n",
    "\n",
    "def portfolio_builder():\n",
    "    \n",
    "    \"\"\"\n",
    "    Asks the user how many, and which stocks they'd like to choose for their portfolio.\n",
    "    \"\"\"\n",
    "    \n",
    "    #Initial Variables\n",
    "    global list_of_stocks\n",
    "    list_of_stocks = []\n",
    "    num_stocks='wrong'\n",
    "    \n",
    "    #Starts as string, must be turned into \"digit\".\n",
    "    #int b4 input would break conditional\n",
    "    while num_stocks.isdigit() == False:\n",
    "    \n",
    "        #Choosing a number\n",
    "        num_stocks = input(\"How many stocks do you want in your portfolio?: \")\n",
    "        \n",
    "        #Digit Check\n",
    "        if num_stocks.isdigit() == False:\n",
    "            print(\"Sorry, that's not a digit!\")\n",
    "    \n",
    "    #A Number has been chosen. Reflect that to the user.\n",
    "    print(f\"Your portfolio will have {num_stocks} stocks.\\n\")\n",
    "\n",
    "    while len(list_of_stocks) < int(num_stocks):\n",
    "        \n",
    "        #What stocks are we adding?\n",
    "        stocks = input(\"Which stock would you like to choose?: \")\n",
    "        \n",
    "        #Did you put in a number?\n",
    "        if stocks.isdigit() == True:\n",
    "            print(\"Sorry, that's not a valid input!\")\n",
    "            \n",
    "        #Did you already put that stock in the list?\n",
    "        elif stocks in list_of_stocks:\n",
    "            print(\"You've already chosen that stock. Please pick another!\")\n",
    "            \n",
    "        #Seems legit. Let's add it to the list!\n",
    "        else:\n",
    "            list_of_stocks.append(stocks)\n",
    "            \n",
    "    #A list of stocks has been chosen. Reflect that to the user.\n",
    "    print(\"------------------------------------------------\")\n",
    "    print(f\"Your portfolio will include: \")\n",
    "    print(*list_of_stocks, sep=\", \")\n",
    "    print(\"------------------------------------------------\")\n",
    "    pass"
   ]
  },
  {
   "cell_type": "code",
   "execution_count": 40,
   "metadata": {},
   "outputs": [],
   "source": [
    "def volume_grab():\n",
    "    \"\"\"\n",
    "    Takes in arg \"ticker\" as a str object,\n",
    "    and returns volume information for that\n",
    "    symbol/ticker.\n",
    "    date[index]/open/high/low/close/adj close/volume\n",
    "    \"\"\"\n",
    "    #Initial Lists & variables\n",
    "    today = pd.to_datetime('today')\n",
    "    symbol = []\n",
    "    # For loop grabbing ticker symbol & adding to download function\n",
    "    for ticker in list_of_stocks:\n",
    "        symbol.append(ticker)\n",
    "    #yfinance info\n",
    "    daily_data = yf.download(symbol,\n",
    "                            start='2020-01-01',\n",
    "                            end=today)\n",
    "    daily_volume = daily_data['Volume']\n",
    "    \n",
    "    return daily_volume"
   ]
  },
  {
   "cell_type": "code",
   "execution_count": 41,
   "metadata": {},
   "outputs": [],
   "source": [
    "def price_grab():\n",
    "    \"\"\"\n",
    "    Takes in arg \"ticker\" as a str object,\n",
    "    and returns closing price information for that\n",
    "    symbol/ticker.\n",
    "    date[index]/open/high/low/close/adj close/volume\n",
    "    \"\"\"\n",
    "    #Initial Lists & variables\n",
    "    today = pd.to_datetime('today')\n",
    "    symbol = []\n",
    "    # For loop grabbing ticker symbol & adding to download function\n",
    "    for ticker in list_of_stocks:\n",
    "        symbol.append(ticker)\n",
    "    #yfinance info\n",
    "    daily_data = yf.download(symbol,\n",
    "                            start='2020-01-01',\n",
    "                            end=today)\n",
    "    daily_close = daily_data['Close']\n",
    "    return daily_close"
   ]
  },
  {
   "cell_type": "code",
   "execution_count": 42,
   "metadata": {},
   "outputs": [],
   "source": [
    "def pct_change():\n",
    "    \"\"\"\n",
    "    Takes in arg \"ticker\" as a str object,\n",
    "    and returns closing price percent change information for that\n",
    "    symbol/ticker.\n",
    "    date[index]/open/high/low/close/adj close/volume\n",
    "    \"\"\"\n",
    "    #Initial Lists & variables\n",
    "    today = pd.to_datetime('today')\n",
    "    symbol = []\n",
    "    # For loop grabbing ticker symbol & adding to download function\n",
    "    for ticker in list_of_stocks:\n",
    "        symbol.append(ticker)\n",
    "    #yfinance info\n",
    "    daily_data = yf.download(symbol,\n",
    "                            start='2020-01-01',\n",
    "                            end=today)\n",
    "    daily_pctchg = daily_data['Close'].pct_change()\n",
    "    return daily_pctchg"
   ]
  },
  {
   "cell_type": "code",
   "execution_count": 43,
   "metadata": {},
   "outputs": [],
   "source": [
    "def create_pctchg_panel():\n",
    "    \n",
    "    change_graph = pct_change().hvplot(title='Percent Change', xlabel='Dates (One Year)',\n",
    "                          ylabel='Percent Change',\n",
    "                          width=1000, height=700)\n",
    "    \n",
    "    return change_graph\n",
    "\n",
    "def create_volume_panel():\n",
    "    \n",
    "    volume_graph = volume_grab().hvplot(title='Volume', xlabel='Dates (One Year)',\n",
    "                          yticks=(100000000,200000000,300000000),\n",
    "                          ylabel='Volume (Hundred Millions)',\n",
    "                         width=1000, height=700)\n",
    "    \n",
    "    return volume_graph\n",
    "\n",
    "def create_price_panel():\n",
    "    \n",
    "    price_graph = price_grab().hvplot(title='Price', xlabel=\"Dates (One Year)\",\n",
    "                        ylabel='Price in USD', width=1000, height=700)\n",
    "    \n",
    "    return price_graph"
   ]
  },
  {
   "cell_type": "code",
   "execution_count": 44,
   "metadata": {},
   "outputs": [],
   "source": [
    "### PANELS NEED WORK, Y LIMITER ON VOLUME GRAPH..\n",
    "# REFERENCED FUNCTIONS IN GRAPH CREATION - UPDATE? \n",
    "### NEEDS REVISING\n",
    "\n",
    "def create_dashboard():\n",
    "    \"\"\"\n",
    "    Takes the three primary create functions\n",
    "    and creates HV plot graphs.\n",
    "    \"\"\"\n",
    "    \n",
    "    # Creating the Graphs for the Panels\n",
    "    change_graph = pct_change().hvplot(title='Percent Change', xlabel='Dates (One Year)',\n",
    "                          ylabel='Percent Change',\n",
    "                          width=1000, height=700)\n",
    "    volume_graph = volume_grab().hvplot(title='Volume', xlabel='Dates (One Year)',\n",
    "                          yticks=(100000000,200000000,300000000),\n",
    "                          ylabel='Volume (Hundred Millions)',\n",
    "                         width=1000, height=700)\n",
    "    price_graph = price_grab().hvplot(title='Price', xlabel=\"Dates (One Year)\",\n",
    "                        ylabel='Price in USD', width=1000, height=700)\n",
    "    \n",
    "    # Setting up the Panels\n",
    "    panel_one = pn.Column(\"##### Price\", price_graph)\n",
    "    panel_two = pn.Column(\"##### % Change\", change_graph)\n",
    "    panel_three = pn.Column(\"##### Volume\", volume_graph)\n",
    "    \n",
    "    # Creating the tabs\n",
    "    \n",
    "    dashboard = pn.Tabs((\"Prices\", panel_one),\n",
    "                        (\"% Change\", panel_two),\n",
    "                        (\"Volume\",panel_three)\n",
    "                       )\n",
    "    \n",
    "    return dashboard"
   ]
  },
  {
   "cell_type": "code",
   "execution_count": 45,
   "metadata": {},
   "outputs": [],
   "source": [
    "#NEEDS REVIEW & POSS UPDATES\n",
    "#Adding and Removing stocks from a portfolio\n",
    "\n",
    "def add_stock(stock):\n",
    "    \"\"\"\n",
    "    Adds a stock to your portfolio, or list_of_stocks\n",
    "    \"\"\"\n",
    "    list_of_stocks.append(stock)\n",
    "    print(\"------------------------------------------------\")\n",
    "    print(f\"{stock} was added to your portfolio!\")\n",
    "    print(f\"Your portfolio will include: \")\n",
    "    print(*list_of_stocks, sep=\", \")\n",
    "    print(\"------------------------------------------------\")\n",
    "\n",
    "def remove_stock(stock):\n",
    "    \"\"\"\n",
    "    Removes a stock from your portfolio, or list_of_stocks\n",
    "    \"\"\"\n",
    "    list_of_stocks.remove(stock)\n",
    "    print(\"------------------------------------------------\")\n",
    "    print(f\"{stock} was removed from your portfolio!\") \n",
    "    print(f\"Your portfolio will include: \")\n",
    "    print(*list_of_stocks, sep=\", \")\n",
    "    print(\"------------------------------------------------\")\n",
    "    pass\n",
    "    "
   ]
  },
  {
   "cell_type": "code",
   "execution_count": 46,
   "metadata": {
    "scrolled": true
   },
   "outputs": [
    {
     "name": "stdout",
     "output_type": "stream",
     "text": [
      "How many stocks do you want in your portfolio?: 3\n",
      "Your portfolio will have 3 stocks.\n",
      "\n",
      "Which stock would you like to choose?: TSLA\n",
      "Which stock would you like to choose?: GM\n",
      "Which stock would you like to choose?: F\n",
      "------------------------------------------------\n",
      "Your portfolio will include: \n",
      "TSLA, GM, F\n",
      "------------------------------------------------\n"
     ]
    }
   ],
   "source": [
    "portfolio_builder()"
   ]
  },
  {
   "cell_type": "code",
   "execution_count": 51,
   "metadata": {},
   "outputs": [
    {
     "name": "stdout",
     "output_type": "stream",
     "text": [
      "[*********************100%***********************]  3 of 3 completed\n"
     ]
    },
    {
     "data": {},
     "metadata": {},
     "output_type": "display_data"
    },
    {
     "data": {
      "application/vnd.holoviews_exec.v0+json": "",
      "text/html": [
       "<div id='3977'>\n",
       "\n",
       "\n",
       "\n",
       "\n",
       "\n",
       "  <div class=\"bk-root\" id=\"acbeae87-dcde-4d83-bb59-d26c274ad700\" data-root-id=\"3977\"></div>\n",
       "</div>\n",
       "<script type=\"application/javascript\">(function(root) {\n",
       "  function embed_document(root) {\n",
       "  var docs_json = {\"84679e12-e033-43fe-a69a-88214c0e0875\":{\"roots\":{\"references\":[{\"attributes\":{\"data_source\":{\"id\":\"4018\"},\"glyph\":{\"id\":\"4021\"},\"hover_glyph\":null,\"muted_glyph\":{\"id\":\"4023\"},\"nonselection_glyph\":{\"id\":\"4022\"},\"selection_glyph\":null,\"view\":{\"id\":\"4025\"}},\"id\":\"4024\",\"type\":\"GlyphRenderer\"},{\"attributes\":{\"click_policy\":\"mute\",\"items\":[{\"id\":\"4047\"},{\"id\":\"4078\"},{\"id\":\"4111\"}],\"location\":[0,0],\"title\":\"Variable\"},\"id\":\"4046\",\"type\":\"Legend\"},{\"attributes\":{\"data_source\":{\"id\":\"4079\"},\"glyph\":{\"id\":\"4082\"},\"hover_glyph\":null,\"muted_glyph\":{\"id\":\"4084\"},\"nonselection_glyph\":{\"id\":\"4083\"},\"selection_glyph\":null,\"view\":{\"id\":\"4086\"}},\"id\":\"4085\",\"type\":\"GlyphRenderer\"},{\"attributes\":{\"line_alpha\":0.1,\"line_color\":\"#2ba02b\",\"line_width\":2,\"x\":{\"field\":\"Date\"},\"y\":{\"field\":\"value\"}},\"id\":\"4083\",\"type\":\"Line\"},{\"attributes\":{\"axis\":{\"id\":\"3997\"},\"dimension\":1,\"grid_line_color\":null,\"ticker\":null},\"id\":\"4000\",\"type\":\"Grid\"},{\"attributes\":{\"line_alpha\":0.2,\"line_color\":\"#ff7e0e\",\"line_width\":2,\"x\":{\"field\":\"Date\"},\"y\":{\"field\":\"value\"}},\"id\":\"4053\",\"type\":\"Line\"},{\"attributes\":{\"months\":[0,1,2,3,4,5,6,7,8,9,10,11]},\"id\":\"4041\",\"type\":\"MonthsTicker\"},{\"attributes\":{\"data\":{\"Date\":{\"__ndarray__\":\"AABA1Dj2dkIAAAA6i/Z2QgAAQGuC93ZCAAAA0dT3dkIAAMA2J/h2QgAAgJx5+HZCAABAAsz4dkIAAIAzw/l2QgAAQJkV+nZCAAAA/2f6dkIAAMBkuvp2QgAAgMoM+3ZCAACAYVb8dkIAAEDHqPx2QgAAAC37/HZCAADAkk39dkIAAADERP52QgAAwCmX/nZCAACAj+n+dkIAAED1O/92QgAAAFuO/3ZCAABAjIUAd0IAAADy1wB3QgAAwFcqAXdCAACAvXwBd0IAAEAjzwF3QgAAgFTGAndCAABAuhgDd0IAAAAgawN3QgAAwIW9A3dCAACA6w8Ed0IAAICCWQV3QgAAQOirBXdCAAAATv4Fd0IAAMCzUAZ3QgAAAOVHB3dCAADASpoHd0IAAICw7Ad3QgAAQBY/CHdCAAAAfJEId0IAAECtiAl3QgAAABPbCXdCAADAeC0Kd0IAAIDefwp3QgAAQETSCndCAACAdckLd0IAAEDbGwx3QgAAAEFuDHdCAADApsAMd0IAAIAMEw13QgAAwD0KDndCAACAo1wOd0IAAEAJrw53QgAAAG8BD3dCAADA1FMPd0IAAAAGSxB3QgAAwGudEHdCAACA0e8Qd0IAAEA3QhF3QgAAAJ2UEXdCAABAzosSd0IAAAA03hJ3QgAAwJkwE3dCAACA/4ITd0IAAEBl1RN3QgAAgJbMFHdCAABA/B4Vd0IAAABicRV3QgAAwMfDFXdCAADAXg0Xd0IAAIDEXxd3QgAAQCqyF3dCAAAAkAQYd0IAAMD1Vhh3QgAAACdOGXdCAADAjKAZd0IAAIDy8hl3QgAAQFhFGndCAAAAvpcad0IAAEDvjht3QgAAAFXhG3dCAADAujMcd0IAAIAghhx3QgAAQIbYHHdCAACAt88dd0IAAEAdIh53QgAAAIN0HndCAADA6MYed0IAAIBOGR93QgAAwH8QIHdCAACA5WIgd0IAAEBLtSB3QgAAALEHIXdCAADAFlohd0IAAABIUSJ3QgAAwK2jIndCAACAE/Yid0IAAEB5SCN3QgAAAN+aI3dCAAAAduQkd0IAAMDbNiV3QgAAgEGJJXdCAABAp9sld0IAAIDY0iZ3QgAAQD4lJ3dCAAAApHcnd0IAAMAJyid3QgAAgG8cKHdCAADAoBMpd0IAAIAGZil3QgAAQGy4KXdCAAAA0goqd0IAAMA3XSp3QgAAAGlUK3dCAADAzqYrd0IAAIA0+St3QgAAQJpLLHdCAAAAAJ4sd0IAAEAxlS13QgAAAJfnLXdCAADA/Dkud0IAAIBijC53QgAAQMjeLndCAACA+dUvd0IAAEBfKDB3QgAAAMV6MHdCAADAKs0wd0IAAMDBFjJ3QgAAgCdpMndCAABAjbsyd0IAAADzDTN3QgAAwFhgM3dCAAAAilc0d0IAAMDvqTR3QgAAgFX8NHdCAABAu041d0IAAAAhoTV3QgAAQFKYNndCAAAAuOo2d0IAAMAdPTd3QgAAgIOPN3dCAABA6eE3d0IAAIAa2Th3QgAAQIArOXdCAAAA5n05d0IAAMBL0Dl3QgAAgLEiOndCAADA4hk7d0IAAIBIbDt3QgAAQK6+O3dCAAAAFBE8d0IAAMB5Yzx3QgAAAKtaPXdCAADAEK09d0IAAIB2/z13QgAAQNxRPndCAAAAQqQ+d0IAAEBzmz93QgAAANntP3dCAADAPkBAd0IAAICkkkB3QgAAQArlQHdCAACAO9xBd0IAAEChLkJ3QgAAAAeBQndCAADAbNNCd0IAAIDSJUN3QgAAwAMdRHdCAACAaW9Ed0IAAEDPwUR3QgAAADUURXdCAADAmmZFd0IAAMAxsEZ3QgAAgJcCR3dCAABA/VRHd0IAAABjp0d3QgAAQJSeSHdCAAAA+vBId0IAAMBfQ0l3QgAAgMWVSXdCAABAK+hJd0IAAIBc30p3Qg==\",\"dtype\":\"float64\",\"order\":\"little\",\"shape\":[182]},\"Variable\":[\"GM\",\"GM\",\"GM\",\"GM\",\"GM\",\"GM\",\"GM\",\"GM\",\"GM\",\"GM\",\"GM\",\"GM\",\"GM\",\"GM\",\"GM\",\"GM\",\"GM\",\"GM\",\"GM\",\"GM\",\"GM\",\"GM\",\"GM\",\"GM\",\"GM\",\"GM\",\"GM\",\"GM\",\"GM\",\"GM\",\"GM\",\"GM\",\"GM\",\"GM\",\"GM\",\"GM\",\"GM\",\"GM\",\"GM\",\"GM\",\"GM\",\"GM\",\"GM\",\"GM\",\"GM\",\"GM\",\"GM\",\"GM\",\"GM\",\"GM\",\"GM\",\"GM\",\"GM\",\"GM\",\"GM\",\"GM\",\"GM\",\"GM\",\"GM\",\"GM\",\"GM\",\"GM\",\"GM\",\"GM\",\"GM\",\"GM\",\"GM\",\"GM\",\"GM\",\"GM\",\"GM\",\"GM\",\"GM\",\"GM\",\"GM\",\"GM\",\"GM\",\"GM\",\"GM\",\"GM\",\"GM\",\"GM\",\"GM\",\"GM\",\"GM\",\"GM\",\"GM\",\"GM\",\"GM\",\"GM\",\"GM\",\"GM\",\"GM\",\"GM\",\"GM\",\"GM\",\"GM\",\"GM\",\"GM\",\"GM\",\"GM\",\"GM\",\"GM\",\"GM\",\"GM\",\"GM\",\"GM\",\"GM\",\"GM\",\"GM\",\"GM\",\"GM\",\"GM\",\"GM\",\"GM\",\"GM\",\"GM\",\"GM\",\"GM\",\"GM\",\"GM\",\"GM\",\"GM\",\"GM\",\"GM\",\"GM\",\"GM\",\"GM\",\"GM\",\"GM\",\"GM\",\"GM\",\"GM\",\"GM\",\"GM\",\"GM\",\"GM\",\"GM\",\"GM\",\"GM\",\"GM\",\"GM\",\"GM\",\"GM\",\"GM\",\"GM\",\"GM\",\"GM\",\"GM\",\"GM\",\"GM\",\"GM\",\"GM\",\"GM\",\"GM\",\"GM\",\"GM\",\"GM\",\"GM\",\"GM\",\"GM\",\"GM\",\"GM\",\"GM\",\"GM\",\"GM\",\"GM\",\"GM\",\"GM\",\"GM\",\"GM\",\"GM\",\"GM\",\"GM\",\"GM\",\"GM\",\"GM\",\"GM\",\"GM\",\"GM\",\"GM\",\"GM\"],\"value\":{\"__ndarray__\":\"AAAA4KOwQkAAAADA9ShCQAAAACCF60FAAAAAQDOTQUAAAABAM1NBQAAAAIA9ikFAAAAAQDNTQUAAAACgcH1BQAAAAEAzk0FAAAAAQDOTQUAAAABgZsZBQAAAAMDMzEFAAAAAYLh+QUAAAADgenRBQAAAAOCjcEFAAAAAIK4nQUAAAADgerRAQAAAAIDr0UBAAAAAwMzMQEAAAACAPapAQAAAAIDrsUBAAAAAACncQEAAAAAgXC9BQAAAAADXg0FAAAAAgD0qQUAAAADgo9BAQAAAAAAAIEFAAAAAoEeBQUAAAABguL5BQAAAAMAepUFAAAAAoEdhQUAAAADgejRBQAAAAIDCdUFAAAAAwB6lQUAAAABAM1NBQAAAACCFi0BAAAAAAADAP0AAAAAAAABAQAAAAIDCtT5AAAAAAACAPkAAAAAghWs/QAAAAMAehT5AAAAAIK6HP0AAAACgmRk+QAAAAOCjsDxAAAAA4KOwOEAAAABguB47QAAAAAAAADpAAAAAgD0KN0AAAACAwrU4QAAAAAAAADVAAAAAgOtRNEAAAADAzMwwQAAAAIDCtTFAAAAAANcjMkAAAACgmZkxQAAAAAApHDVAAAAAoHB9NUAAAAAgXI82QAAAAKBHYTVAAAAAgOtRNUAAAAAgrsc0QAAAAGCPQjNAAAAA4KMwMkAAAACAPQoyQAAAAMDMjDNAAAAAwMxMNUAAAACgRyE3QAAAACBcDzhAAAAAYI8CN0AAAABA4fo2QAAAAMD1qDVAAAAAYLjeNEAAAABA4Xo2QAAAAKBHYTZAAAAAoHA9NUAAAADAzEw1QAAAAMAehTVAAAAAQDPzNUAAAABAM3M2QAAAAIAULjZAAAAAIK7HN0AAAACAPUo2QAAAAGBm5jRAAAAAAADANEAAAABgj0I1QAAAAADX4zVAAAAA4KNwNkAAAACAFO43QAAAAMDMzDZAAAAAIFyPNkAAAACAwnU1QAAAACBcTzZAAAAAoEehNkAAAAAgXM84QAAAAOCjsDhAAAAAQOF6OUAAAADAzMw5QAAAAEDh+jlAAAAAYGZmO0AAAACAPco7QAAAAIAUrjpAAAAAoEfhOUAAAADgo/A6QAAAAMD1aDtAAAAAgOsRPUAAAADA9Sg9QAAAAAApnD5AAAAAgBSuPkAAAAAAKdw9QAAAAAAAwDxAAAAAAACAOkAAAACAwvU7QAAAAMAexTtAAAAAIK7HO0AAAADA9Sg7QAAAAEAKFztAAAAAQAqXOkAAAABguF46QAAAAAAAQDpAAAAAIK5HOUAAAABA4To5QAAAAIDCdThAAAAAwMxMOUAAAADAzEw5QAAAAIDC9ThAAAAAoHA9OUAAAABA4bo5QAAAAKBHITlAAAAA4KPwOEAAAAAghWs3QAAAAADXYzhAAAAAACncOEAAAAAA16M5QAAAAKBH4TpAAAAAoJnZOkAAAABAM3M6QAAAAGCPAjpAAAAAYGYmOkAAAADAzEw6QAAAAGCPwjpAAAAAAABAOkAAAABAM7M5QAAAAOB6VDpAAAAAANfjOUAAAABAMzM5QAAAAADX4zhAAAAAANejOUAAAADAzMw5QAAAAOB6VDpAAAAAYLieOkAAAADgUbg6QAAAAEDh+jtAAAAAwB6FPEAAAAAgrgc8QAAAAMDMjDtAAAAAACncO0AAAABgjwI+QAAAAEAK1z1AAAAA4FE4PUAAAADgetQ8QAAAACBcjzxAAAAAIFxPPkAAAADgo7A9QAAAAEDhej1AAAAA4KOwPUAAAADAHgU+QAAAAKBHoT1AAAAAgD3KPUAAAACAwvU+QAAAAEDhej1AAAAAAAAAPkAAAADgozBAQAAAAEAz8z9AAAAAIIUrPkAAAACAwnU+QAAAAIAULj9AAAAA4HqUP0AAAACAPco/QAAAACCF6z9AAAAAAACAP0AAAADA/gI+QA==\",\"dtype\":\"float64\",\"order\":\"little\",\"shape\":[182]}},\"selected\":{\"id\":\"4049\"},\"selection_policy\":{\"id\":\"4064\"}},\"id\":\"4048\",\"type\":\"ColumnDataSource\"},{\"attributes\":{\"data\":{\"Date\":{\"__ndarray__\":\"AABA1Dj2dkIAAAA6i/Z2QgAAQGuC93ZCAAAA0dT3dkIAAMA2J/h2QgAAgJx5+HZCAABAAsz4dkIAAIAzw/l2QgAAQJkV+nZCAAAA/2f6dkIAAMBkuvp2QgAAgMoM+3ZCAACAYVb8dkIAAEDHqPx2QgAAAC37/HZCAADAkk39dkIAAADERP52QgAAwCmX/nZCAACAj+n+dkIAAED1O/92QgAAAFuO/3ZCAABAjIUAd0IAAADy1wB3QgAAwFcqAXdCAACAvXwBd0IAAEAjzwF3QgAAgFTGAndCAABAuhgDd0IAAAAgawN3QgAAwIW9A3dCAACA6w8Ed0IAAICCWQV3QgAAQOirBXdCAAAATv4Fd0IAAMCzUAZ3QgAAAOVHB3dCAADASpoHd0IAAICw7Ad3QgAAQBY/CHdCAAAAfJEId0IAAECtiAl3QgAAABPbCXdCAADAeC0Kd0IAAIDefwp3QgAAQETSCndCAACAdckLd0IAAEDbGwx3QgAAAEFuDHdCAADApsAMd0IAAIAMEw13QgAAwD0KDndCAACAo1wOd0IAAEAJrw53QgAAAG8BD3dCAADA1FMPd0IAAAAGSxB3QgAAwGudEHdCAACA0e8Qd0IAAEA3QhF3QgAAAJ2UEXdCAABAzosSd0IAAAA03hJ3QgAAwJkwE3dCAACA/4ITd0IAAEBl1RN3QgAAgJbMFHdCAABA/B4Vd0IAAABicRV3QgAAwMfDFXdCAADAXg0Xd0IAAIDEXxd3QgAAQCqyF3dCAAAAkAQYd0IAAMD1Vhh3QgAAACdOGXdCAADAjKAZd0IAAIDy8hl3QgAAQFhFGndCAAAAvpcad0IAAEDvjht3QgAAAFXhG3dCAADAujMcd0IAAIAghhx3QgAAQIbYHHdCAACAt88dd0IAAEAdIh53QgAAAIN0HndCAADA6MYed0IAAIBOGR93QgAAwH8QIHdCAACA5WIgd0IAAEBLtSB3QgAAALEHIXdCAADAFlohd0IAAABIUSJ3QgAAwK2jIndCAACAE/Yid0IAAEB5SCN3QgAAAN+aI3dCAAAAduQkd0IAAMDbNiV3QgAAgEGJJXdCAABAp9sld0IAAIDY0iZ3QgAAQD4lJ3dCAAAApHcnd0IAAMAJyid3QgAAgG8cKHdCAADAoBMpd0IAAIAGZil3QgAAQGy4KXdCAAAA0goqd0IAAMA3XSp3QgAAAGlUK3dCAADAzqYrd0IAAIA0+St3QgAAQJpLLHdCAAAAAJ4sd0IAAEAxlS13QgAAAJfnLXdCAADA/Dkud0IAAIBijC53QgAAQMjeLndCAACA+dUvd0IAAEBfKDB3QgAAAMV6MHdCAADAKs0wd0IAAMDBFjJ3QgAAgCdpMndCAABAjbsyd0IAAADzDTN3QgAAwFhgM3dCAAAAilc0d0IAAMDvqTR3QgAAgFX8NHdCAABAu041d0IAAAAhoTV3QgAAQFKYNndCAAAAuOo2d0IAAMAdPTd3QgAAgIOPN3dCAABA6eE3d0IAAIAa2Th3QgAAQIArOXdCAAAA5n05d0IAAMBL0Dl3QgAAgLEiOndCAADA4hk7d0IAAIBIbDt3QgAAQK6+O3dCAAAAFBE8d0IAAMB5Yzx3QgAAAKtaPXdCAADAEK09d0IAAIB2/z13QgAAQNxRPndCAAAAQqQ+d0IAAEBzmz93QgAAANntP3dCAADAPkBAd0IAAICkkkB3QgAAQArlQHdCAACAO9xBd0IAAEChLkJ3QgAAAAeBQndCAADAbNNCd0IAAIDSJUN3QgAAwAMdRHdCAACAaW9Ed0IAAEDPwUR3QgAAADUURXdCAADAmmZFd0IAAMAxsEZ3QgAAgJcCR3dCAABA/VRHd0IAAABjp0d3QgAAQJSeSHdCAAAA+vBId0IAAMBfQ0l3QgAAgMWVSXdCAABAK+hJd0IAAIBc30p3Qg==\",\"dtype\":\"float64\",\"order\":\"little\",\"shape\":[182]},\"Variable\":[\"TSLA\",\"TSLA\",\"TSLA\",\"TSLA\",\"TSLA\",\"TSLA\",\"TSLA\",\"TSLA\",\"TSLA\",\"TSLA\",\"TSLA\",\"TSLA\",\"TSLA\",\"TSLA\",\"TSLA\",\"TSLA\",\"TSLA\",\"TSLA\",\"TSLA\",\"TSLA\",\"TSLA\",\"TSLA\",\"TSLA\",\"TSLA\",\"TSLA\",\"TSLA\",\"TSLA\",\"TSLA\",\"TSLA\",\"TSLA\",\"TSLA\",\"TSLA\",\"TSLA\",\"TSLA\",\"TSLA\",\"TSLA\",\"TSLA\",\"TSLA\",\"TSLA\",\"TSLA\",\"TSLA\",\"TSLA\",\"TSLA\",\"TSLA\",\"TSLA\",\"TSLA\",\"TSLA\",\"TSLA\",\"TSLA\",\"TSLA\",\"TSLA\",\"TSLA\",\"TSLA\",\"TSLA\",\"TSLA\",\"TSLA\",\"TSLA\",\"TSLA\",\"TSLA\",\"TSLA\",\"TSLA\",\"TSLA\",\"TSLA\",\"TSLA\",\"TSLA\",\"TSLA\",\"TSLA\",\"TSLA\",\"TSLA\",\"TSLA\",\"TSLA\",\"TSLA\",\"TSLA\",\"TSLA\",\"TSLA\",\"TSLA\",\"TSLA\",\"TSLA\",\"TSLA\",\"TSLA\",\"TSLA\",\"TSLA\",\"TSLA\",\"TSLA\",\"TSLA\",\"TSLA\",\"TSLA\",\"TSLA\",\"TSLA\",\"TSLA\",\"TSLA\",\"TSLA\",\"TSLA\",\"TSLA\",\"TSLA\",\"TSLA\",\"TSLA\",\"TSLA\",\"TSLA\",\"TSLA\",\"TSLA\",\"TSLA\",\"TSLA\",\"TSLA\",\"TSLA\",\"TSLA\",\"TSLA\",\"TSLA\",\"TSLA\",\"TSLA\",\"TSLA\",\"TSLA\",\"TSLA\",\"TSLA\",\"TSLA\",\"TSLA\",\"TSLA\",\"TSLA\",\"TSLA\",\"TSLA\",\"TSLA\",\"TSLA\",\"TSLA\",\"TSLA\",\"TSLA\",\"TSLA\",\"TSLA\",\"TSLA\",\"TSLA\",\"TSLA\",\"TSLA\",\"TSLA\",\"TSLA\",\"TSLA\",\"TSLA\",\"TSLA\",\"TSLA\",\"TSLA\",\"TSLA\",\"TSLA\",\"TSLA\",\"TSLA\",\"TSLA\",\"TSLA\",\"TSLA\",\"TSLA\",\"TSLA\",\"TSLA\",\"TSLA\",\"TSLA\",\"TSLA\",\"TSLA\",\"TSLA\",\"TSLA\",\"TSLA\",\"TSLA\",\"TSLA\",\"TSLA\",\"TSLA\",\"TSLA\",\"TSLA\",\"TSLA\",\"TSLA\",\"TSLA\",\"TSLA\",\"TSLA\",\"TSLA\",\"TSLA\",\"TSLA\",\"TSLA\",\"TSLA\",\"TSLA\",\"TSLA\",\"TSLA\",\"TSLA\",\"TSLA\",\"TSLA\",\"TSLA\",\"TSLA\",\"TSLA\",\"TSLA\",\"TSLA\"],\"value\":{\"__ndarray__\":\"AAAAAFSDVUAAAAAghyZWQAAAAEC2k1ZAAAAAwPdzV0AAAABgZJtYQAAAAOAmEVhAAAAA4FHoV0AAAABANT5aQAAAAEBg5VpAAAAAwMzsWUAAAAAArKxZQAAAAGBmhllAAAAAAClcW0AAAABAXnpcQAAAAAApnFxAAAAAILI9XEAAAADgp+ZbQAAAAOBRWFxAAAAAAKwMXUAAAAAgLwVgQAAAAOClQ2BAAAAAAACAY0AAAAAgLy1mQAAAAIAUXmJAAAAAIFi5YkAAAADgpbNiQAAAACAxSGNAAAAAQAhcY0AAAADgpy5jQAAAAKCZGWRAAAAAIDEAZEAAAACAwnVlQAAAAOB872ZAAAAAYDl8ZkAAAABgZoZmQAAAAIBB2GRAAAAAgGz/Y0AAAADgUXhjQAAAAKCZ+WBAAAAA4CKzYEAAAAAAK5diQAAAAKBDo2JAAAAAwMy8YkAAAABgDh1iQAAAAKBFlmFAAAAAYGZmXkAAAACgHCJgQAAAAOAktl9AAAAAQAoHXEAAAABgvFRbQAAAAGDlQFZAAAAAYI+CVUAAAADAnQ9SQAAAAMDKYVVAAAAAQGJgVUAAAACA6bZVQAAAAAAAQFlAAAAAYGb2WkAAAADAcmhaQAAAAODOt1lAAAAAoEMbWUAAAABAMzNaQAAAAMD3E1hAAAAAQDe5VkAAAADAIABYQAAAAEDfz1lAAAAAgMJFW0AAAADgJnFbQAAAAGBmplxAAAAAgBRGYEAAAADAS79hQAAAAIDpPmJAAAAAIFihYkAAAABg5dhiQAAAAEC0qGJAAAAAAAIrYUAAAAAAgU1iQAAAAEAIpGFAAAAAwPUgYkAAAAAAAPhjQAAAAEBeOmNAAAAAoEMDZEAAAABACIxjQAAAAMByiGFAAAAAwJ0HY0AAAABAizRjQAAAACCDkGNAAAAAgEGAY0AAAADASXxkQAAAAIBBSGRAAAAAYDk8ZEAAAADgJMZjQAAAAOBPFWRAAAAAILD6Y0AAAABgO1dkQAAAAKBDM2RAAAAAgJVjZEAAAADgo7BkQAAAAEAIbGRAAAAAoMR4ZEAAAADgeIFkQAAAACAvJWRAAAAAAADgZEAAAAAA13NmQAAAAOD7CWZAAAAAoPESZkAAAABACJxlQAAAAGA5JGZAAAAA4Hy/Z0AAAADASYRnQAAAAOBRoGlAAAAAAC1SaEAAAADAymFnQAAAAIDCxWhAAAAAwKGNaEAAAADAdMtoQAAAACBYGWlAAAAAgMIFaUAAAADgpdtoQAAAAGBkC2lAAAAAoHAFaEAAAACgRaZoQAAAAABW/mdAAAAAANc7aUAAAADAyP5qQAAAAMCh/WtAAAAAgGw3bkAAAABgDiVxQAAAAECNX3FAAAAA4NAScUAAAAAgsm1xQAAAAEDhTnNAAAAAgJe2ckAAAACAwvVyQAAAAGA7U3NAAAAAQAzCckAAAAAgsMJyQAAAAKCZiXRAAAAAgMCac0AAAADAdOdzQAAAAADT6XJAAAAAYGa2cUAAAABguD5zQAAAAKDEdHJAAAAA4Ca9ckAAAADA95dyQAAAAKBu4nFAAAAAAACQckAAAABgZpZyQAAAAGAQkHJAAAAA4KeeckAAAAAArChyQAAAAIBsu3FAAAAAQAwucUAAAABgO29zQAAAAEAzQ3RAAAAAoEWidEAAAABADPJ2QAAAACCwlndAAAAAwEt7d0AAAAAg2wV5QAAAAKDvn3lAAAAAoHAteUAAAAAgsEp5QAAAAOAk6npAAAAAAAD8e0AAAABA4ap7QAAAAMAeJX9AAAAAwMywfUAAAACA6/V7QAAAAAAAcHlAAAAAwB4lekAAAAAgXKN0QAAAAOB65HZAAAAAoHA1d0AAAAAghUt3QAAAAIDrOXpAAAAAACkcfEAAAAAAKZx7QAAAAEDhdnpAAAAAYGaie0AAAACgmdl7QA==\",\"dtype\":\"float64\",\"order\":\"little\",\"shape\":[182]}},\"selected\":{\"id\":\"4080\"},\"selection_policy\":{\"id\":\"4097\"}},\"id\":\"4079\",\"type\":\"ColumnDataSource\"},{\"attributes\":{},\"id\":\"4032\",\"type\":\"UnionRenderers\"},{\"attributes\":{\"axis_label\":\"Dates (One Year)\",\"bounds\":\"auto\",\"formatter\":{\"id\":\"4015\"},\"major_label_orientation\":\"horizontal\",\"ticker\":{\"id\":\"3994\"}},\"id\":\"3993\",\"type\":\"DatetimeAxis\"},{\"attributes\":{\"end\":1600646400000.0,\"reset_end\":1600646400000.0,\"reset_start\":1577923200000.0,\"start\":1577923200000.0,\"tags\":[[[\"Date\",\"Date\",null]]]},\"id\":\"3979\",\"type\":\"Range1d\"},{\"attributes\":{},\"id\":\"3998\",\"type\":\"BasicTicker\"},{\"attributes\":{\"days\":[1,15]},\"id\":\"4040\",\"type\":\"DaysTicker\"},{\"attributes\":{\"num_minor_ticks\":5,\"tickers\":[{\"id\":\"4034\"},{\"id\":\"4035\"},{\"id\":\"4036\"},{\"id\":\"4037\"},{\"id\":\"4038\"},{\"id\":\"4039\"},{\"id\":\"4040\"},{\"id\":\"4041\"},{\"id\":\"4042\"},{\"id\":\"4043\"},{\"id\":\"4044\"},{\"id\":\"4045\"}]},\"id\":\"3994\",\"type\":\"DatetimeTicker\"},{\"attributes\":{},\"id\":\"4045\",\"type\":\"YearsTicker\"},{\"attributes\":{\"source\":{\"id\":\"4048\"}},\"id\":\"4055\",\"type\":\"CDSView\"},{\"attributes\":{\"months\":[0,6]},\"id\":\"4044\",\"type\":\"MonthsTicker\"},{\"attributes\":{\"axis\":{\"id\":\"3993\"},\"grid_line_color\":null,\"ticker\":null},\"id\":\"3996\",\"type\":\"Grid\"},{\"attributes\":{\"line_color\":\"#1f77b3\",\"line_width\":2,\"x\":{\"field\":\"Date\"},\"y\":{\"field\":\"value\"}},\"id\":\"4021\",\"type\":\"Line\"},{\"attributes\":{\"days\":[1,4,7,10,13,16,19,22,25,28]},\"id\":\"4038\",\"type\":\"DaysTicker\"},{\"attributes\":{\"data_source\":{\"id\":\"4048\"},\"glyph\":{\"id\":\"4051\"},\"hover_glyph\":null,\"muted_glyph\":{\"id\":\"4053\"},\"nonselection_glyph\":{\"id\":\"4052\"},\"selection_glyph\":null,\"view\":{\"id\":\"4055\"}},\"id\":\"4054\",\"type\":\"GlyphRenderer\"},{\"attributes\":{\"months\":[0,2,4,6,8,10]},\"id\":\"4042\",\"type\":\"MonthsTicker\"},{\"attributes\":{\"months\":[0,4,8]},\"id\":\"4043\",\"type\":\"MonthsTicker\"},{\"attributes\":{\"margin\":[5,5,5,5],\"name\":\"HSpacer04878\",\"sizing_mode\":\"stretch_width\"},\"id\":\"4328\",\"type\":\"Spacer\"},{\"attributes\":{\"source\":{\"id\":\"4079\"}},\"id\":\"4086\",\"type\":\"CDSView\"},{\"attributes\":{\"label\":{\"value\":\"GM\"},\"renderers\":[{\"id\":\"4054\"}]},\"id\":\"4078\",\"type\":\"LegendItem\"},{\"attributes\":{\"line_alpha\":0.1,\"line_color\":\"#ff7e0e\",\"line_width\":2,\"x\":{\"field\":\"Date\"},\"y\":{\"field\":\"value\"}},\"id\":\"4052\",\"type\":\"Line\"},{\"attributes\":{\"label\":{\"value\":\"F\"},\"renderers\":[{\"id\":\"4024\"}]},\"id\":\"4047\",\"type\":\"LegendItem\"},{\"attributes\":{\"line_color\":\"#ff7e0e\",\"line_width\":2,\"x\":{\"field\":\"Date\"},\"y\":{\"field\":\"value\"}},\"id\":\"4051\",\"type\":\"Line\"},{\"attributes\":{\"text\":\"Price\",\"text_color\":{\"value\":\"black\"},\"text_font_size\":{\"value\":\"12pt\"}},\"id\":\"3985\",\"type\":\"Title\"},{\"attributes\":{\"data\":{\"Date\":{\"__ndarray__\":\"AABA1Dj2dkIAAAA6i/Z2QgAAQGuC93ZCAAAA0dT3dkIAAMA2J/h2QgAAgJx5+HZCAABAAsz4dkIAAIAzw/l2QgAAQJkV+nZCAAAA/2f6dkIAAMBkuvp2QgAAgMoM+3ZCAACAYVb8dkIAAEDHqPx2QgAAAC37/HZCAADAkk39dkIAAADERP52QgAAwCmX/nZCAACAj+n+dkIAAED1O/92QgAAAFuO/3ZCAABAjIUAd0IAAADy1wB3QgAAwFcqAXdCAACAvXwBd0IAAEAjzwF3QgAAgFTGAndCAABAuhgDd0IAAAAgawN3QgAAwIW9A3dCAACA6w8Ed0IAAICCWQV3QgAAQOirBXdCAAAATv4Fd0IAAMCzUAZ3QgAAAOVHB3dCAADASpoHd0IAAICw7Ad3QgAAQBY/CHdCAAAAfJEId0IAAECtiAl3QgAAABPbCXdCAADAeC0Kd0IAAIDefwp3QgAAQETSCndCAACAdckLd0IAAEDbGwx3QgAAAEFuDHdCAADApsAMd0IAAIAMEw13QgAAwD0KDndCAACAo1wOd0IAAEAJrw53QgAAAG8BD3dCAADA1FMPd0IAAAAGSxB3QgAAwGudEHdCAACA0e8Qd0IAAEA3QhF3QgAAAJ2UEXdCAABAzosSd0IAAAA03hJ3QgAAwJkwE3dCAACA/4ITd0IAAEBl1RN3QgAAgJbMFHdCAABA/B4Vd0IAAABicRV3QgAAwMfDFXdCAADAXg0Xd0IAAIDEXxd3QgAAQCqyF3dCAAAAkAQYd0IAAMD1Vhh3QgAAACdOGXdCAADAjKAZd0IAAIDy8hl3QgAAQFhFGndCAAAAvpcad0IAAEDvjht3QgAAAFXhG3dCAADAujMcd0IAAIAghhx3QgAAQIbYHHdCAACAt88dd0IAAEAdIh53QgAAAIN0HndCAADA6MYed0IAAIBOGR93QgAAwH8QIHdCAACA5WIgd0IAAEBLtSB3QgAAALEHIXdCAADAFlohd0IAAABIUSJ3QgAAwK2jIndCAACAE/Yid0IAAEB5SCN3QgAAAN+aI3dCAAAAduQkd0IAAMDbNiV3QgAAgEGJJXdCAABAp9sld0IAAIDY0iZ3QgAAQD4lJ3dCAAAApHcnd0IAAMAJyid3QgAAgG8cKHdCAADAoBMpd0IAAIAGZil3QgAAQGy4KXdCAAAA0goqd0IAAMA3XSp3QgAAAGlUK3dCAADAzqYrd0IAAIA0+St3QgAAQJpLLHdCAAAAAJ4sd0IAAEAxlS13QgAAAJfnLXdCAADA/Dkud0IAAIBijC53QgAAQMjeLndCAACA+dUvd0IAAEBfKDB3QgAAAMV6MHdCAADAKs0wd0IAAMDBFjJ3QgAAgCdpMndCAABAjbsyd0IAAADzDTN3QgAAwFhgM3dCAAAAilc0d0IAAMDvqTR3QgAAgFX8NHdCAABAu041d0IAAAAhoTV3QgAAQFKYNndCAAAAuOo2d0IAAMAdPTd3QgAAgIOPN3dCAABA6eE3d0IAAIAa2Th3QgAAQIArOXdCAAAA5n05d0IAAMBL0Dl3QgAAgLEiOndCAADA4hk7d0IAAIBIbDt3QgAAQK6+O3dCAAAAFBE8d0IAAMB5Yzx3QgAAAKtaPXdCAADAEK09d0IAAIB2/z13QgAAQNxRPndCAAAAQqQ+d0IAAEBzmz93QgAAANntP3dCAADAPkBAd0IAAICkkkB3QgAAQArlQHdCAACAO9xBd0IAAEChLkJ3QgAAAAeBQndCAADAbNNCd0IAAIDSJUN3QgAAwAMdRHdCAACAaW9Ed0IAAEDPwUR3QgAAADUURXdCAADAmmZFd0IAAMAxsEZ3QgAAgJcCR3dCAABA/VRHd0IAAABjp0d3QgAAQJSeSHdCAAAA+vBId0IAAMBfQ0l3QgAAgMWVSXdCAABAK+hJd0IAAIBc30p3Qg==\",\"dtype\":\"float64\",\"order\":\"little\",\"shape\":[182]},\"Variable\":[\"F\",\"F\",\"F\",\"F\",\"F\",\"F\",\"F\",\"F\",\"F\",\"F\",\"F\",\"F\",\"F\",\"F\",\"F\",\"F\",\"F\",\"F\",\"F\",\"F\",\"F\",\"F\",\"F\",\"F\",\"F\",\"F\",\"F\",\"F\",\"F\",\"F\",\"F\",\"F\",\"F\",\"F\",\"F\",\"F\",\"F\",\"F\",\"F\",\"F\",\"F\",\"F\",\"F\",\"F\",\"F\",\"F\",\"F\",\"F\",\"F\",\"F\",\"F\",\"F\",\"F\",\"F\",\"F\",\"F\",\"F\",\"F\",\"F\",\"F\",\"F\",\"F\",\"F\",\"F\",\"F\",\"F\",\"F\",\"F\",\"F\",\"F\",\"F\",\"F\",\"F\",\"F\",\"F\",\"F\",\"F\",\"F\",\"F\",\"F\",\"F\",\"F\",\"F\",\"F\",\"F\",\"F\",\"F\",\"F\",\"F\",\"F\",\"F\",\"F\",\"F\",\"F\",\"F\",\"F\",\"F\",\"F\",\"F\",\"F\",\"F\",\"F\",\"F\",\"F\",\"F\",\"F\",\"F\",\"F\",\"F\",\"F\",\"F\",\"F\",\"F\",\"F\",\"F\",\"F\",\"F\",\"F\",\"F\",\"F\",\"F\",\"F\",\"F\",\"F\",\"F\",\"F\",\"F\",\"F\",\"F\",\"F\",\"F\",\"F\",\"F\",\"F\",\"F\",\"F\",\"F\",\"F\",\"F\",\"F\",\"F\",\"F\",\"F\",\"F\",\"F\",\"F\",\"F\",\"F\",\"F\",\"F\",\"F\",\"F\",\"F\",\"F\",\"F\",\"F\",\"F\",\"F\",\"F\",\"F\",\"F\",\"F\",\"F\",\"F\",\"F\",\"F\",\"F\",\"F\",\"F\",\"F\",\"F\",\"F\",\"F\",\"F\",\"F\",\"F\",\"F\",\"F\",\"F\",\"F\",\"F\",\"F\"],\"value\":{\"__ndarray__\":\"AAAAQArXIkAAAAAghWsiQAAAAIDrUSJAAAAAAACAIkAAAAAAAIAiQAAAAMAehSJAAAAAAACAIkAAAABA4XoiQAAAAOB6lCJAAAAAoEdhIkAAAABAClciQAAAAIDrUSJAAAAAIIVrIkAAAACA61EiQAAAACCuRyJAAAAAAAAAIkAAAAAgrschQAAAAOCj8CFAAAAA4FG4IUAAAACAFK4hQAAAAADXoyFAAAAAgML1IUAAAAAAKVwiQAAAAGC4niBAAAAAAACAIEAAAADgUTggQAAAAGC4HiBAAAAAQDMzIEAAAABA4XogQAAAAAAAgCBAAAAAQDMzIEAAAABguB4gQAAAAAAAACBAAAAAIFwPIEAAAAAgXI8fQAAAACCuRx5AAAAAIIXrHEAAAABACtccQAAAAKBH4RtAAAAAQArXG0AAAADAzMwcQAAAAKBH4RtAAAAAgOtRHEAAAACAwvUaQAAAAIDC9RlAAAAAoJmZF0AAAACAPQoZQAAAAKCZmRdAAAAAYGZmFUAAAADAHoUWQAAAAIA9ChRAAAAAgD0KFEAAAAAAAAASQAAAAKBH4RFAAAAAgOtREUAAAACAPQoQQAAAAMDMzBNAAAAAIFyPFUAAAAAAAAAVQAAAAGCPwhRAAAAAYLgeFEAAAACA61ETQAAAAKCZmRFAAAAA4KNwEUAAAACAwvUQQAAAAGC4HhJAAAAAQArXEkAAAABguB4UQAAAAEDhehVAAAAAANejFEAAAADA9SgVQAAAAGC4HhRAAAAAYI/CE0AAAABA4XoUQAAAACCF6xNAAAAA4HoUE0AAAADgehQTQAAAACBcjxNAAAAAQOF6E0AAAACAFK4UQAAAAMAehRVAAAAAgD0KFUAAAAAAKVwUQAAAAIAUrhNAAAAA4KNwE0AAAACgR+ETQAAAAEDhehNAAAAAQOF6E0AAAACAwvUUQAAAAEDhehRAAAAAIIXrE0AAAACgR+ESQAAAACBcjxNAAAAAoJmZE0AAAACgcD0VQAAAAEAzMxVAAAAAgML1FUAAAADAHoUWQAAAAKCZmRZAAAAAAClcF0AAAABguB4YQAAAAGBmZhdAAAAAQArXFkAAAABA4XoXQAAAAKCZmRdAAAAAYI/CGEAAAAAgrkcaQAAAAAApXB1AAAAAYLgeHkAAAACAwvUcQAAAAKBwPRtAAAAAwB6FGEAAAABACtcZQAAAAAAAABpAAAAAQDMzGkAAAACA61EZQAAAAIDrURlAAAAAIIXrGEAAAABguB4ZQAAAAKCZmRhAAAAAwMzMF0AAAABguB4YQAAAAADXoxdAAAAAgD0KGEAAAACA61EYQAAAACCF6xdAAAAAQDMzGEAAAABgj8IYQAAAAEDhehhAAAAAAClcGEAAAAAAKVwXQAAAAGBmZhhAAAAAoHA9GEAAAADgo3AZQAAAAIDC9RpAAAAA4KNwG0AAAABAMzMbQAAAAADXoxpAAAAA4FG4GkAAAAAAKVwbQAAAACCF6xtAAAAAwB6FG0AAAADgUbgbQAAAAIA9ChxAAAAAgBSuG0AAAACAwvUaQAAAAOCjcBpAAAAAYI/CGkAAAADgo3AbQAAAAEAK1xtAAAAA4FG4G0AAAADgo3AbQAAAAAApXBxAAAAAIIXrHEAAAADgo3AcQAAAAGC4HhxAAAAAwPUoHEAAAAAghesbQAAAACBcjxtAAAAAQOF6G0AAAAAAKVwbQAAAAADXoxpAAAAAIIXrG0AAAABgj8IbQAAAACCuRxtAAAAAANejG0AAAABgj8IbQAAAACCuRxtAAAAAgOtRG0AAAADAzMwbQAAAACCuRxtAAAAAoJmZG0AAAABguB4cQAAAAKBH4RtAAAAAANejG0AAAAAAAAAcQAAAAEDhehxAAAAAwPUoHEAAAADgehQcQAAAAGC4Hh1AAAAAIIXrHEAAAAAghWsbQA==\",\"dtype\":\"float64\",\"order\":\"little\",\"shape\":[182]}},\"selected\":{\"id\":\"4019\"},\"selection_policy\":{\"id\":\"4032\"}},\"id\":\"4018\",\"type\":\"ColumnDataSource\"},{\"attributes\":{\"active_drag\":\"auto\",\"active_inspect\":\"auto\",\"active_multi\":null,\"active_scroll\":\"auto\",\"active_tap\":\"auto\",\"tools\":[{\"id\":\"3981\"},{\"id\":\"4001\"},{\"id\":\"4002\"},{\"id\":\"4003\"},{\"id\":\"4004\"},{\"id\":\"4005\"}]},\"id\":\"4007\",\"type\":\"Toolbar\"},{\"attributes\":{\"axis_label\":\"Price in USD\",\"bounds\":\"auto\",\"formatter\":{\"id\":\"4017\"},\"major_label_orientation\":\"horizontal\",\"ticker\":{\"id\":\"3998\"}},\"id\":\"3997\",\"type\":\"LinearAxis\"},{\"attributes\":{\"days\":[1,2,3,4,5,6,7,8,9,10,11,12,13,14,15,16,17,18,19,20,21,22,23,24,25,26,27,28,29,30,31]},\"id\":\"4037\",\"type\":\"DaysTicker\"},{\"attributes\":{\"bottom_units\":\"screen\",\"fill_alpha\":0.5,\"fill_color\":\"lightgrey\",\"left_units\":\"screen\",\"level\":\"overlay\",\"line_alpha\":1.0,\"line_color\":\"black\",\"line_dash\":[4,4],\"line_width\":2,\"right_units\":\"screen\",\"top_units\":\"screen\"},\"id\":\"4006\",\"type\":\"BoxAnnotation\"},{\"attributes\":{},\"id\":\"4097\",\"type\":\"UnionRenderers\"},{\"attributes\":{\"line_alpha\":0.2,\"line_color\":\"#2ba02b\",\"line_width\":2,\"x\":{\"field\":\"Date\"},\"y\":{\"field\":\"value\"}},\"id\":\"4084\",\"type\":\"Line\"},{\"attributes\":{\"label\":{\"value\":\"TSLA\"},\"renderers\":[{\"id\":\"4085\"}]},\"id\":\"4111\",\"type\":\"LegendItem\"},{\"attributes\":{\"children\":[{\"id\":\"3978\"},{\"id\":\"3984\"},{\"id\":\"4328\"}],\"margin\":[0,0,0,0],\"name\":\"Row04873\",\"tags\":[\"embedded\"]},\"id\":\"3977\",\"type\":\"Row\"},{\"attributes\":{},\"id\":\"3991\",\"type\":\"LinearScale\"},{\"attributes\":{\"base\":60,\"mantissas\":[1,2,5,10,15,20,30],\"max_interval\":1800000.0,\"min_interval\":1000.0,\"num_minor_ticks\":0},\"id\":\"4035\",\"type\":\"AdaptiveTicker\"},{\"attributes\":{\"callback\":null,\"formatters\":{\"@{Date}\":\"datetime\"},\"renderers\":[{\"id\":\"4024\"},{\"id\":\"4054\"},{\"id\":\"4085\"}],\"tags\":[\"hv_created\"],\"tooltips\":[[\"Variable\",\"@{Variable}\"],[\"Date\",\"@{Date}{%F %T}\"],[\"value\",\"@{value}\"]]},\"id\":\"3981\",\"type\":\"HoverTool\"},{\"attributes\":{},\"id\":\"4019\",\"type\":\"Selection\"},{\"attributes\":{\"margin\":[5,5,5,5],\"name\":\"HSpacer04877\",\"sizing_mode\":\"stretch_width\"},\"id\":\"3978\",\"type\":\"Spacer\"},{\"attributes\":{},\"id\":\"4001\",\"type\":\"SaveTool\"},{\"attributes\":{},\"id\":\"4003\",\"type\":\"WheelZoomTool\"},{\"attributes\":{},\"id\":\"4002\",\"type\":\"PanTool\"},{\"attributes\":{},\"id\":\"4017\",\"type\":\"BasicTickFormatter\"},{\"attributes\":{\"overlay\":{\"id\":\"4006\"}},\"id\":\"4004\",\"type\":\"BoxZoomTool\"},{\"attributes\":{},\"id\":\"4015\",\"type\":\"DatetimeTickFormatter\"},{\"attributes\":{\"mantissas\":[1,2,5],\"max_interval\":500.0,\"num_minor_ticks\":0},\"id\":\"4034\",\"type\":\"AdaptiveTicker\"},{\"attributes\":{\"days\":[1,8,15,22]},\"id\":\"4039\",\"type\":\"DaysTicker\"},{\"attributes\":{},\"id\":\"3989\",\"type\":\"LinearScale\"},{\"attributes\":{\"line_alpha\":0.2,\"line_color\":\"#1f77b3\",\"line_width\":2,\"x\":{\"field\":\"Date\"},\"y\":{\"field\":\"value\"}},\"id\":\"4023\",\"type\":\"Line\"},{\"attributes\":{},\"id\":\"4080\",\"type\":\"Selection\"},{\"attributes\":{\"source\":{\"id\":\"4018\"}},\"id\":\"4025\",\"type\":\"CDSView\"},{\"attributes\":{},\"id\":\"4049\",\"type\":\"Selection\"},{\"attributes\":{\"base\":24,\"mantissas\":[1,2,4,6,8,12],\"max_interval\":43200000.0,\"min_interval\":3600000.0,\"num_minor_ticks\":0},\"id\":\"4036\",\"type\":\"AdaptiveTicker\"},{\"attributes\":{\"end\":547.7510080337524,\"reset_end\":547.7510080337524,\"reset_start\":-45.421000480651855,\"start\":-45.421000480651855,\"tags\":[[[\"value\",\"value\",null]]]},\"id\":\"3980\",\"type\":\"Range1d\"},{\"attributes\":{\"line_color\":\"#2ba02b\",\"line_width\":2,\"x\":{\"field\":\"Date\"},\"y\":{\"field\":\"value\"}},\"id\":\"4082\",\"type\":\"Line\"},{\"attributes\":{},\"id\":\"4005\",\"type\":\"ResetTool\"},{\"attributes\":{\"align\":null,\"below\":[{\"id\":\"3993\"}],\"center\":[{\"id\":\"3996\"},{\"id\":\"4000\"}],\"left\":[{\"id\":\"3997\"}],\"margin\":null,\"min_border_bottom\":10,\"min_border_left\":10,\"min_border_right\":10,\"min_border_top\":10,\"plot_height\":700,\"plot_width\":1000,\"renderers\":[{\"id\":\"4024\"},{\"id\":\"4054\"},{\"id\":\"4085\"}],\"right\":[{\"id\":\"4046\"}],\"sizing_mode\":\"fixed\",\"title\":{\"id\":\"3985\"},\"toolbar\":{\"id\":\"4007\"},\"x_range\":{\"id\":\"3979\"},\"x_scale\":{\"id\":\"3989\"},\"y_range\":{\"id\":\"3980\"},\"y_scale\":{\"id\":\"3991\"}},\"id\":\"3984\",\"subtype\":\"Figure\",\"type\":\"Plot\"},{\"attributes\":{\"line_alpha\":0.1,\"line_color\":\"#1f77b3\",\"line_width\":2,\"x\":{\"field\":\"Date\"},\"y\":{\"field\":\"value\"}},\"id\":\"4022\",\"type\":\"Line\"},{\"attributes\":{},\"id\":\"4064\",\"type\":\"UnionRenderers\"}],\"root_ids\":[\"3977\"]},\"title\":\"Bokeh Application\",\"version\":\"2.1.1\"}};\n",
       "  var render_items = [{\"docid\":\"84679e12-e033-43fe-a69a-88214c0e0875\",\"root_ids\":[\"3977\"],\"roots\":{\"3977\":\"acbeae87-dcde-4d83-bb59-d26c274ad700\"}}];\n",
       "  root.Bokeh.embed.embed_items_notebook(docs_json, render_items);\n",
       "  }\n",
       "if (root.Bokeh !== undefined) {\n",
       "    embed_document(root);\n",
       "  } else {\n",
       "    var attempts = 0;\n",
       "    var timer = setInterval(function(root) {\n",
       "      if (root.Bokeh !== undefined) {\n",
       "        clearInterval(timer);\n",
       "        embed_document(root);\n",
       "      } else if (document.readyState == \"complete\") {\n",
       "        attempts++;\n",
       "        if (attempts > 100) {\n",
       "          clearInterval(timer);\n",
       "          console.log(\"Bokeh: ERROR: Unable to run BokehJS code because BokehJS library is missing\");\n",
       "        }\n",
       "      }\n",
       "    }, 10, root)\n",
       "  }\n",
       "})(window);</script>"
      ],
      "text/plain": [
       ":NdOverlay   [Variable]\n",
       "   :Curve   [Date]   (value)"
      ]
     },
     "execution_count": 51,
     "metadata": {
      "application/vnd.holoviews_exec.v0+json": {
       "id": "3977"
      }
     },
     "output_type": "execute_result"
    }
   ],
   "source": [
    "create_price_panel()"
   ]
  },
  {
   "cell_type": "code",
   "execution_count": null,
   "metadata": {},
   "outputs": [],
   "source": []
  }
 ],
 "metadata": {
  "kernelspec": {
   "display_name": "Python [conda env:pyvizenv] *",
   "language": "python",
   "name": "conda-env-pyvizenv-py"
  },
  "language_info": {
   "codemirror_mode": {
    "name": "ipython",
    "version": 3
   },
   "file_extension": ".py",
   "mimetype": "text/x-python",
   "name": "python",
   "nbconvert_exporter": "python",
   "pygments_lexer": "ipython3",
   "version": "3.7.7"
  }
 },
 "nbformat": 4,
 "nbformat_minor": 4
}
