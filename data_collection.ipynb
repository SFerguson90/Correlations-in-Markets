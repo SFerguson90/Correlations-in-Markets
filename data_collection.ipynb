{
 "cells": [
  {
   "cell_type": "code",
   "execution_count": null,
   "metadata": {},
   "outputs": [],
   "source": [
    "#pyvizenv environment needed\n",
    "#commented out libraries & APIs we aren't currently using - kp\n",
    "\n",
    "import requests\n",
    "# initial imports\n",
    "import os\n",
    "#import pandas as pd\n",
    "#import panel as pn\n",
    "#import plotly.express as px\n",
    "#import plotly.graph_objects as go\n",
    "#import holoviews as hv\n",
    "#from pathlib import Path\n",
    "from dotenv import load_dotenv\n",
    "import json\n",
    "\n",
    "\n",
    "load_dotenv()\n",
    "rapid_api_key = os.getenv(\"RAPID_API_KEY\")"
   ]
  },
  {
   "cell_type": "code",
   "execution_count": null,
   "metadata": {},
   "outputs": [],
   "source": [
    "#import hvplot.pandas\n",
    "#import matplotlib.pyplot as plt"
   ]
  },
  {
   "cell_type": "code",
   "execution_count": null,
   "metadata": {},
   "outputs": [],
   "source": [
    "# Read the Mapbox API key\n",
    "#load_dotenv()\n",
    "#mapbox_token = os.getenv(\"MAPBOX\")\n",
    "#px.set_mapbox_access_token(mapbox_token)"
   ]
  },
  {
   "cell_type": "code",
   "execution_count": null,
   "metadata": {},
   "outputs": [],
   "source": [
    "#alpaca_token = os.getenv(\"ALPACA_API_KEY\")"
   ]
  },
  {
   "cell_type": "code",
   "execution_count": null,
   "metadata": {},
   "outputs": [],
   "source": [
    "# outputs textbox to key in stock symbol and uses api to get historical stock data for that stock\n",
    "# use code to loop through list of tickers and output daily close data for x amount of time\n",
    "# updated ticker list to be in same format - kp\n",
    "# removed \"ticker\" from function name - kp\n",
    "# removed extra 2 print statments since it was printing 3 times - kp\n",
    "# changed order in loop to print ticker symbol at top - kp\n",
    "# updated url to make api data in json format, changed return to dump with indents - kp\n",
    "\n",
    "tickers = [\"BTC-USD\", \"DJIA\", \"XAU/USD\", \"DXY\", \"NDX\", \"SPX\", \"WTI\"]\n",
    "\n",
    "def data_grab():\n",
    "    url = \"https://apidojo-yahoo-finance-v1.p.rapidapi.com/stock/v3/get-historical-data\"\n",
    "    url = url + \"?format=json\"\n",
    "\n",
    "    querystring = {\"symbol\":\"\"}\n",
    "    querystring['symbol']=tickers\n",
    "    headers = {\n",
    "        'x-rapidapi-host': \"apidojo-yahoo-finance-v1.p.rapidapi.com\",\n",
    "        'x-rapidapi-key': rapid_api_key\n",
    "        }\n",
    "    \n",
    "    response_data = requests.get(url, headers=headers, params=querystring)\n",
    "    data = response_data.json()\n",
    "    return(print(json.dumps(data, indent=4)))\n",
    "\n",
    "for ticker in tickers:\n",
    "        print(f\"\\n {ticker}\")\n",
    "        data_grab()"
   ]
  },
  {
   "cell_type": "code",
   "execution_count": null,
   "metadata": {},
   "outputs": [],
   "source": [
    "# NEXT STEPS\n",
    "# create dataframes with api data"
   ]
  }
 ],
 "metadata": {
  "kernelspec": {
   "display_name": "Python [conda env:pyvizenv] *",
   "language": "python",
   "name": "conda-env-pyvizenv-py"
  },
  "language_info": {
   "codemirror_mode": {
    "name": "ipython",
    "version": 3
   },
   "file_extension": ".py",
   "mimetype": "text/x-python",
   "name": "python",
   "nbconvert_exporter": "python",
   "pygments_lexer": "ipython3",
   "version": "3.7.7"
  }
 },
 "nbformat": 4,
 "nbformat_minor": 4
}