{
 "cells": [
  {
   "cell_type": "code",
   "execution_count": null,
   "metadata": {},
   "outputs": [],
   "source": [
    "# Notebook with data for 1st Presenter: Duplicate notebook 3x & change (portfolio_builder) data\n",
    "# run functions_list notebook - all libraries will be imported\n",
    "# prompts portfolio_builder(), we can have a list ready to populate (saved in source) or we can manually key in tickers_test_list\n",
    "# tickers_test_list = [\"BTC-USD\", \"DJIA\", \"GLD\", \"DX-Y.NYB\", \"QQQ\", \"SPY\", \"WTI\", \"JPY=X\"]\n",
    "# P1: Stocks List = [\"DX-Y.NYB\", \"JPY=X\"]\n",
    "%run functions_list.ipynb"
   ]
  },
  {
   "cell_type": "code",
   "execution_count": null,
   "metadata": {},
   "outputs": [],
   "source": [
    "# If we look at this graph you can see when USD decreases, JPY increases (interchangable)\n",
    "# show graph\n",
    "create_pctchg_panel().show"
   ]
  },
  {
   "cell_type": "code",
   "execution_count": null,
   "metadata": {},
   "outputs": [],
   "source": [
    "correlation = price_grab().pct_change().corr()\n",
    "sns.heatmap(correlation)"
   ]
  },
  {
   "cell_type": "code",
   "execution_count": null,
   "metadata": {},
   "outputs": [],
   "source": []
  }
 ],
 "metadata": {
  "kernelspec": {
   "display_name": "Python [conda env:pyvizenv] *",
   "language": "python",
   "name": "conda-env-pyvizenv-py"
  },
  "language_info": {
   "codemirror_mode": {
    "name": "ipython",
    "version": 3
   },
   "file_extension": ".py",
   "mimetype": "text/x-python",
   "name": "python",
   "nbconvert_exporter": "python",
   "pygments_lexer": "ipython3",
   "version": "3.7.7"
  }
 },
 "nbformat": 4,
 "nbformat_minor": 4
}
