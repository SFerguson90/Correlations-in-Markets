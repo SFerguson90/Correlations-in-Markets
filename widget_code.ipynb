{
 "cells": [
  {
   "cell_type": "code",
   "execution_count": 1,
   "metadata": {},
   "outputs": [
    {
     "ename": "ModuleNotFoundError",
     "evalue": "No module named 'yfinance'",
     "output_type": "error",
     "traceback": [
      "\u001b[1;31m---------------------------------------------------------------------------\u001b[0m",
      "\u001b[1;31mModuleNotFoundError\u001b[0m                       Traceback (most recent call last)",
      "\u001b[1;32m<ipython-input-1-dbed7d704659>\u001b[0m in \u001b[0;36m<module>\u001b[1;34m\u001b[0m\n\u001b[0;32m      4\u001b[0m \u001b[1;33m\u001b[0m\u001b[0m\n\u001b[0;32m      5\u001b[0m \u001b[1;31m# Initial imports/modules/libraries\u001b[0m\u001b[1;33m\u001b[0m\u001b[1;33m\u001b[0m\u001b[1;33m\u001b[0m\u001b[0m\n\u001b[1;32m----> 6\u001b[1;33m \u001b[1;32mimport\u001b[0m \u001b[0myfinance\u001b[0m \u001b[1;32mas\u001b[0m \u001b[0myf\u001b[0m\u001b[1;33m\u001b[0m\u001b[1;33m\u001b[0m\u001b[0m\n\u001b[0m\u001b[0;32m      7\u001b[0m \u001b[1;32mimport\u001b[0m \u001b[0mrequests\u001b[0m\u001b[1;33m,\u001b[0m \u001b[0mos\u001b[0m\u001b[1;33m,\u001b[0m \u001b[0mdatetime\u001b[0m\u001b[1;33m,\u001b[0m \u001b[0mjson\u001b[0m\u001b[1;33m\u001b[0m\u001b[1;33m\u001b[0m\u001b[0m\n\u001b[0;32m      8\u001b[0m \u001b[1;32mimport\u001b[0m \u001b[0mpandas\u001b[0m \u001b[1;32mas\u001b[0m \u001b[0mpd\u001b[0m\u001b[1;33m\u001b[0m\u001b[1;33m\u001b[0m\u001b[0m\n",
      "\u001b[1;31mModuleNotFoundError\u001b[0m: No module named 'yfinance'"
     ]
    }
   ],
   "source": [
    "#pyvizenv environment needed\n",
    "#commented out libraries & APIs we aren't currently using - kp\n",
    "\n",
    "\n",
    "# Initial imports/modules/libraries\n",
    "import yfinance as yf\n",
    "import requests, os, datetime, json\n",
    "import pandas as pd\n",
    "import hvplot.pandas\n",
    "import panel as pn\n",
    "import plotly.express as px\n",
    "import holoviews as hv\n",
    "from dotenv import load_dotenv\n",
    "import seaborn as sns\n",
    "from panel.interact import interact\n",
    "\n",
    "# Loading user .env file\n",
    "load_dotenv()\n",
    "rapid_api_key = os.getenv(\"RAPID_API_KEY\")"
   ]
  },
  {
   "cell_type": "code",
   "execution_count": 2,
   "metadata": {},
   "outputs": [],
   "source": [
    "import hvplot.pandas\n",
    "#import matplotlib.pyplot as plt"
   ]
  },
  {
   "cell_type": "code",
   "execution_count": 3,
   "metadata": {},
   "outputs": [],
   "source": [
    "#tickers_test_list = [\"BTC-USD\", \"DJIA\", \"GLD\", \"DX-Y.NYB\", \"QQQ\", \"SPY\", \"WTI\"]\n",
    "\n",
    "def portfolio_builder():\n",
    "    \n",
    "    \"\"\"\n",
    "    Asks the user how many, and which stocks they'd like to choose for their portfolio.\n",
    "    \"\"\"\n",
    "    \n",
    "    #Initial Variables\n",
    "    global list_of_stocks\n",
    "    list_of_stocks = []\n",
    "    num_stocks='wrong'\n",
    "    \n",
    "    #Starts as string, must be turned into \"digit\".\n",
    "    #int b4 input would break conditional\n",
    "    while num_stocks.isdigit() == False:\n",
    "    \n",
    "        #Choosing a number\n",
    "        num_stocks = input(\"How many stocks do you want in your portfolio?: \")\n",
    "        \n",
    "        #Digit Check\n",
    "        if num_stocks.isdigit() == False:\n",
    "            print(\"Sorry, that's not a digit!\")\n",
    "    \n",
    "    #A Number has been chosen. Reflect that to the user.\n",
    "    print(f\"Your portfolio will have {num_stocks} stocks.\\n\")\n",
    "\n",
    "    while len(list_of_stocks) < int(num_stocks):\n",
    "        \n",
    "        #What stocks are we adding?\n",
    "        stocks = input(\"Which stock would you like to choose?: \")\n",
    "        \n",
    "        #Did you put in a number?\n",
    "        if stocks.isdigit() == True:\n",
    "            print(\"Sorry, that's not a valid input!\")\n",
    "            \n",
    "        #Did you already put that stock in the list?\n",
    "        elif stocks in list_of_stocks:\n",
    "            print(\"You've already chosen that stock. Please pick another!\")\n",
    "            \n",
    "        #Seems legit. Let's add it to the list!\n",
    "        else:\n",
    "            list_of_stocks.append(stocks)\n",
    "            \n",
    "    #A list of stocks has been chosen. Reflect that to the user.\n",
    "    print(\"------------------------------------------------\")\n",
    "    print(f\"Your portfolio will include: \")\n",
    "    print(*list_of_stocks, sep=\", \")\n",
    "    print(\"------------------------------------------------\")\n",
    "    pass"
   ]
  },
  {
   "cell_type": "code",
   "execution_count": 115,
   "metadata": {},
   "outputs": [],
   "source": [
    "\"\"\"def portfolio_builder():\n",
    "    \n",
    "    global list_of_stocks\n",
    "    num_stocks_select = pn.widgets.Select(name='How many stocks do you want in your portfolio?: ', options=list(range(1,25)), value='')\n",
    "    submit_button = pn.widgets.Button(name='Submit')\n",
    "    num_stocks = pn.widgets.StaticText()\n",
    "    #continue_button = pn.widgets.Button(name='Continue')\n",
    "    num_of_stocks = num_stocks_select.value\n",
    "    list_of_stocks_response = pn.widgets.StaticText()\n",
    "    stocks = pn.widgets.TextInput(name=f\"Choose your {num_of_stocks} stocks.\", value='')\n",
    "    add_button = pn.widgets.Button(name='Add Stocks')\n",
    "    list_of_stocks = stocks.value\n",
    "\n",
    "    portfolio_builder_box = pn.WidgetBox('# Portfolio Builder', num_stocks_select, submit_button, num_stocks, stocks, add_button, list_of_stocks)\n",
    "\n",
    "\n",
    "    def submit(event):\n",
    "        num_stocks.value = f'Your portfolio will have {num_stocks_select.value} stocks!'\n",
    "        display(num_stocks, continue_button)\n",
    "\n",
    "\n",
    "    submit_button.on_click(submit)\n",
    "\n",
    "    #def continue_fun(event):\n",
    "    #        return portfolio_builder_box2\n",
    "\n",
    "    #continue_button.on_click(continue_fun)\n",
    "\n",
    "\n",
    "\n",
    "    def add_stocks(event):\n",
    "        list_of_stocks_response.value = f'Your portfolio include {stocks.value}'\n",
    "        display(list_of_stocks_response)\n",
    "\n",
    "    add_button.on_click(add_stocks)\n",
    "\n",
    "    return portfolio_builder_box\"\"\""
   ]
  },
  {
   "cell_type": "code",
   "execution_count": 118,
   "metadata": {},
   "outputs": [
    {
     "name": "stdin",
     "output_type": "stream",
     "text": [
      "How many stocks do you want in your portfolio?:  2\n"
     ]
    },
    {
     "name": "stdout",
     "output_type": "stream",
     "text": [
      "Your portfolio will have 2 stocks.\n",
      "\n"
     ]
    },
    {
     "name": "stdin",
     "output_type": "stream",
     "text": [
      "Which stock would you like to choose?:  wti\n",
      "Which stock would you like to choose?:  f\n"
     ]
    },
    {
     "name": "stdout",
     "output_type": "stream",
     "text": [
      "------------------------------------------------\n",
      "Your portfolio will include: \n",
      "wti, f\n",
      "------------------------------------------------\n"
     ]
    }
   ],
   "source": [
    "portfolio_builder()"
   ]
  },
  {
   "cell_type": "code",
   "execution_count": 80,
   "metadata": {},
   "outputs": [
    {
     "data": {},
     "metadata": {},
     "output_type": "display_data"
    },
    {
     "data": {
      "application/vnd.holoviews_exec.v0+json": "",
      "text/html": [
       "<div id='1415'>\n",
       "\n",
       "\n",
       "\n",
       "\n",
       "\n",
       "  <div class=\"bk-root\" id=\"372e750a-c0ab-4297-b5bf-567a63c125cf\" data-root-id=\"1415\"></div>\n",
       "</div>\n",
       "<script type=\"application/javascript\">(function(root) {\n",
       "  function embed_document(root) {\n",
       "  var docs_json = {\"29e0e490-ccd4-4b5b-8e01-d13971a33bd6\":{\"roots\":{\"references\":[{\"attributes\":{\"children\":[{\"id\":\"1416\"},{\"id\":\"1417\"},{\"id\":\"1418\"},{\"id\":\"1419\"}],\"css_classes\":[\"panel-widget-box\"],\"margin\":[5,5,5,5],\"name\":\"WidgetBox02032\"},\"id\":\"1415\",\"type\":\"Column\"},{\"attributes\":{\"margin\":[5,10,5,10],\"name\":\"\"},\"id\":\"1419\",\"type\":\"Div\"},{\"attributes\":{\"css_classes\":[\"markdown\"],\"margin\":[5,5,5,5],\"name\":\"Markdown02030\",\"text\":\"&lt;h1&gt;Portfolio Builder&lt;/h1&gt;\"},\"id\":\"1416\",\"type\":\"panel.models.markup.HTML\"},{\"attributes\":{\"margin\":[5,10,5,10],\"title\":\"Choose your 4 stocks.\"},\"id\":\"1417\",\"type\":\"TextInput\"},{\"attributes\":{\"client_comm_id\":\"2b524508a4d042c2947897276250a7ac\",\"comm_id\":\"0fc204184ebe4ce3977e56c32918872e\",\"plot_id\":\"1415\"},\"id\":\"1420\",\"type\":\"panel.models.comm_manager.CommManager\"},{\"attributes\":{\"icon\":null,\"label\":\"Add Stocks\",\"margin\":[5,10,5,10],\"subscribed_events\":[\"button_click\"]},\"id\":\"1418\",\"type\":\"Button\"}],\"root_ids\":[\"1415\",\"1420\"]},\"title\":\"Bokeh Application\",\"version\":\"2.2.1\"}};\n",
       "  var render_items = [{\"docid\":\"29e0e490-ccd4-4b5b-8e01-d13971a33bd6\",\"root_ids\":[\"1415\"],\"roots\":{\"1415\":\"372e750a-c0ab-4297-b5bf-567a63c125cf\"}}];\n",
       "  root.Bokeh.embed.embed_items_notebook(docs_json, render_items);\n",
       "  }\n",
       "if (root.Bokeh !== undefined) {\n",
       "    embed_document(root);\n",
       "  } else {\n",
       "    var attempts = 0;\n",
       "    var timer = setInterval(function(root) {\n",
       "      if (root.Bokeh !== undefined) {\n",
       "        clearInterval(timer);\n",
       "        embed_document(root);\n",
       "      } else if (document.readyState == \"complete\") {\n",
       "        attempts++;\n",
       "        if (attempts > 100) {\n",
       "          clearInterval(timer);\n",
       "          console.log(\"Bokeh: ERROR: Unable to run BokehJS code because BokehJS library is missing\");\n",
       "        }\n",
       "      }\n",
       "    }, 10, root)\n",
       "  }\n",
       "})(window);</script>"
      ],
      "text/plain": [
       "WidgetBox\n",
       "    [0] Markdown(str)\n",
       "    [1] TextInput(name='Choose your 4 stocks.')\n",
       "    [2] Button(name='Add Stocks')\n",
       "    [3] StaticText()"
      ]
     },
     "execution_count": 80,
     "metadata": {
      "application/vnd.holoviews_exec.v0+json": {
       "id": "1415"
      }
     },
     "output_type": "execute_result"
    }
   ],
   "source": [
    "\"\"\"num_of_stocks = num_stocks_select.value\n",
    "list_of_stocks = pn.widgets.StaticText()\n",
    "stocks = pn.widgets.TextInput(name=f\"Choose your {num_of_stocks} stocks.\", value='')\n",
    "add_button = pn.widgets.Button(name='Add Stocks')\n",
    "\n",
    "portfolio_builder_box2 = pn.WidgetBox('# Portfolio Builder', stocks, add_button, list_of_stocks)\n",
    "\n",
    "def add_stocks(event):\n",
    "    list_of_stocks.value = f'Your portfolio include {stocks.value}'\n",
    "    display(list_of_stocks)\n",
    "    \n",
    "add_button.on_click(add_stocks)\n",
    "\n",
    "portfolio_builder_box2\"\"\""
   ]
  },
  {
   "cell_type": "code",
   "execution_count": null,
   "metadata": {},
   "outputs": [],
   "source": [
    "portfolio_builder()"
   ]
  },
  {
   "cell_type": "code",
   "execution_count": 119,
   "metadata": {},
   "outputs": [],
   "source": [
    "def volume_grab():\n",
    "    \"\"\"\n",
    "    Takes in arg \"ticker\" as a str object,\n",
    "    and returns volume information for that\n",
    "    symbol/ticker.\n",
    "    date[index]/open/high/low/close/adj close/volume\n",
    "    \"\"\"\n",
    "    #Initial Lists & variables\n",
    "    today = pd.to_datetime('today')\n",
    "    symbol = []\n",
    "    # For loop grabbing ticker symbol & adding to download function\n",
    "    for ticker in list_of_stocks:\n",
    "        symbol.append(ticker)\n",
    "    #yfinance info\n",
    "    daily_data = yf.download(symbol,\n",
    "                            start='2020-01-01',\n",
    "                            end=today)\n",
    "    daily_volume = daily_data['Volume']\n",
    "    \n",
    "    return daily_volume"
   ]
  },
  {
   "cell_type": "code",
   "execution_count": 120,
   "metadata": {},
   "outputs": [],
   "source": [
    "def price_grab():\n",
    "    \"\"\"\n",
    "    Takes in arg \"ticker\" as a str object,\n",
    "    and returns closing price information for that\n",
    "    symbol/ticker.\n",
    "    date[index]/open/high/low/close/adj close/volume\n",
    "    \"\"\"\n",
    "    #Initial Lists & variables\n",
    "    today = pd.to_datetime('today')\n",
    "    symbol = []\n",
    "    # For loop grabbing ticker symbol & adding to download function\n",
    "    for ticker in list_of_stocks:\n",
    "        symbol.append(ticker)\n",
    "    #yfinance info\n",
    "    daily_data = yf.download(symbol,\n",
    "                            start='2020-01-01',\n",
    "                            end=today)\n",
    "    daily_close = daily_data['Close']\n",
    "    return daily_close"
   ]
  },
  {
   "cell_type": "code",
   "execution_count": 121,
   "metadata": {},
   "outputs": [],
   "source": [
    "#pct_change = price_grab().pct_change()\n",
    "\n",
    "def pct_change():\n",
    "    \"\"\"\n",
    "    Takes in arg \"ticker\" as a str object,\n",
    "    and returns closing price percent change information for that\n",
    "    symbol/ticker.\n",
    "    date[index]/open/high/low/close/adj close/volume\n",
    "    \"\"\"\n",
    "    #Initial Lists & variables\n",
    "    today = pd.to_datetime('today')\n",
    "    symbol = []\n",
    "    # For loop grabbing ticker symbol & adding to download function\n",
    "    for ticker in list_of_stocks:\n",
    "        symbol.append(ticker)\n",
    "    #yfinance info\n",
    "    daily_data = yf.download(symbol,\n",
    "                            start='2020-01-01',\n",
    "                            end=today)\n",
    "    daily_pctchg = daily_data['Close'].pct_change()\n",
    "    return daily_pctchg"
   ]
  },
  {
   "cell_type": "code",
   "execution_count": null,
   "metadata": {},
   "outputs": [],
   "source": []
  },
  {
   "cell_type": "code",
   "execution_count": 122,
   "metadata": {},
   "outputs": [],
   "source": [
    "def create_pctchg_panel():\n",
    "    \n",
    "    change_graph = pct_change().hvplot(title='Percent Change', \n",
    "                                       xlabel='Dates (One Year)',\n",
    "                                       ylabel='Percent Change',\n",
    "                                       shared_axes=False,   \n",
    "                                       width=1000, height=700)\n",
    "    \n",
    "    return change_graph\n",
    "\n",
    "def create_volume_panel():\n",
    "    \n",
    "    volume_graph = volume_grab().hvplot(title='Volume', \n",
    "                                        xlabel='Dates (One Year)',\n",
    "                                        yticks=(100000000,200000000,300000000),\n",
    "                                        shared_axes=False,\n",
    "                                        ylabel='Volume (Hundred Millions)',\n",
    "                                        width=1000, height=700)\n",
    "    \n",
    "    return volume_graph\n",
    "\n",
    "def create_price_panel():\n",
    "    \n",
    "    price_graph = price_grab().hvplot(title='Price', \n",
    "                                      xlabel=\"Dates (One Year)\",\n",
    "                                      shared_axes=False,\n",
    "                                      ylabel='Price in USD', \n",
    "                                      width=1000, height=700)\n",
    "    \n",
    "    return price_graph\n",
    "\n",
    "def create_heatmap_panel():\n",
    "    \n",
    "    correlation = price_grab().pct_change().corr()\n",
    "    corr_heatmap = sns.heatmap(correlation)\n",
    "    \n",
    "    return corr_heatmap"
   ]
  },
  {
   "cell_type": "code",
   "execution_count": null,
   "metadata": {},
   "outputs": [],
   "source": [
    "pric"
   ]
  },
  {
   "cell_type": "code",
   "execution_count": 123,
   "metadata": {},
   "outputs": [],
   "source": [
    "def create_dashboard():\n",
    "    \"\"\"\n",
    "    Takes the three primary create functions\n",
    "    and creates HV plot graphs.\n",
    "    \"\"\"\n",
    "    \n",
    "    # Creating the Graphs for the Panels\n",
    "    change_graph = create_pctchg_panel()\n",
    "    volume_graph = create_volume_panel()\n",
    "    price_graph = create_price_panel()\n",
    "    \n",
    "    # Setting up the Panels\n",
    "    panel_one = pn.Column(\"##### Price\", price_graph)\n",
    "    panel_two = pn.Column(\"##### % Change\", change_graph)\n",
    "    panel_three = pn.Column(\"##### Volume\", volume_graph)\n",
    "    \n",
    "    # Creating the tabs\n",
    "    \n",
    "    dashboard = pn.Tabs((\"Prices\", panel_one),\n",
    "                        (\"% Change\", panel_two),\n",
    "                        (\"Volume\",panel_three)\n",
    "                       )\n",
    "    \n",
    "    return dashboard"
   ]
  },
  {
   "cell_type": "code",
   "execution_count": 124,
   "metadata": {},
   "outputs": [],
   "source": [
    "#NEEDS REVIEW & POSS UPDATES\n",
    "#Adding and Removing stocks from a portfolio\n",
    "\n",
    "def add_stock(stock):\n",
    "    \"\"\"\n",
    "    Adds a stock to your portfolio, or list_of_stocks\n",
    "    \"\"\"\n",
    "    list_of_stocks.append(stock)\n",
    "    print(\"------------------------------------------------\")\n",
    "    print(f\"{stock} was added to your portfolio!\")\n",
    "    print(f\"Your portfolio will include: \")\n",
    "    print(*list_of_stocks, sep=\", \")\n",
    "    print(\"------------------------------------------------\")\n",
    "\n",
    "def remove_stock(stock):\n",
    "    \"\"\"\n",
    "    Removes a stock from your portfolio, or list_of_stocks\n",
    "    \"\"\"\n",
    "    list_of_stocks.remove(stock)\n",
    "    print(\"------------------------------------------------\")\n",
    "    print(f\"{stock} was removed from your portfolio!\") \n",
    "    print(f\"Your portfolio will include: \")\n",
    "    print(*list_of_stocks, sep=\", \")\n",
    "    print(\"------------------------------------------------\")\n",
    "    pass\n",
    "    "
   ]
  },
  {
   "cell_type": "code",
   "execution_count": 125,
   "metadata": {},
   "outputs": [],
   "source": [
    "def rolling_corr():\n",
    "    \"\"\"\n",
    "    Takes in arg \"ticker\" as a str object,\n",
    "    and returns daily rolling correlation for that\n",
    "    symbol/ticker.\n",
    "    date[index]close.pct_change().rolling(20).corr().dropna()\n",
    "    \"\"\"\n",
    "    #Initial Lists & variables\n",
    "    today = pd.to_datetime('today')\n",
    "    symbol = []\n",
    "    # For loop grabbing ticker symbol & adding to download function\n",
    "    for ticker in list_of_stocks:\n",
    "        symbol.append(ticker)\n",
    "    #yfinance info\n",
    "    daily_data = yf.download(symbol,\n",
    "                            start='2020-01-01',\n",
    "                            end=today)\n",
    "    daily_close = daily_data['Close'].pct_change().rolling(20).corr().dropna()\n",
    "    return daily_close"
   ]
  },
  {
   "cell_type": "code",
   "execution_count": null,
   "metadata": {},
   "outputs": [],
   "source": []
  }
 ],
 "metadata": {
  "kernelspec": {
   "display_name": "Python [conda env:PyVizEnv] *",
   "language": "python",
   "name": "conda-env-PyVizEnv-py"
  },
  "language_info": {
   "codemirror_mode": {
    "name": "ipython",
    "version": 3
   },
   "file_extension": ".py",
   "mimetype": "text/x-python",
   "name": "python",
   "nbconvert_exporter": "python",
   "pygments_lexer": "ipython3",
   "version": "3.7.10"
  }
 },
 "nbformat": 4,
 "nbformat_minor": 4
}
